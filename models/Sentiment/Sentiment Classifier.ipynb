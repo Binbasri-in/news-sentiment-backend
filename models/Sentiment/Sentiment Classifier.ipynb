{
 "cells": [
  {
   "cell_type": "markdown",
   "id": "fb7b8a4c",
   "metadata": {},
   "source": [
    "# 💬 Twitter‑RoBERTa Sentiment Classification – A Deep Dive  \n",
    "This notebook shows how to\n",
    "\n",
    "1. Load the *CardiffNLP Twitter‑RoBERTa* model and its tokenizer  \n",
    "2. Understand the architecture & training recipe behind the model  \n",
    "3. Build a lightweight inference helper that returns *negative / neutral / positive*  \n",
    "4. Apply it to a sample of 100 news articles  \n",
    "5. Inspect the resulting sentiment distribution\n",
    "\n",
    "> **Why Twitter‑RoBERTa?**  \\\n",
    "> RoBERTa 🔗 [paper](https://arxiv.org/pdf/1907.11692.pdf) reprimes the original BERT pre‑training by removing next‑sentence prediction and training longer.  \n",
    "> CardiffNLP adapted it to social‑media English with **58 M–124 M tweets** and then fine‑tuned it on the **TweetEval** sentiment benchmark, reaching state‑of‑the‑art performance. :contentReference[oaicite:0]{index=0}\n"
   ]
  },
  {
   "cell_type": "code",
   "execution_count": 1,
   "id": "f97f0486",
   "metadata": {},
   "outputs": [
    {
     "name": "stderr",
     "output_type": "stream",
     "text": [
      "/usr/local/python/3.12.1/lib/python3.12/site-packages/tqdm/auto.py:21: TqdmWarning: IProgress not found. Please update jupyter and ipywidgets. See https://ipywidgets.readthedocs.io/en/stable/user_install.html\n",
      "  from .autonotebook import tqdm as notebook_tqdm\n"
     ]
    }
   ],
   "source": [
    "from transformers import AutoModelForSequenceClassification\n",
    "from transformers import TFAutoModelForSequenceClassification\n",
    "from transformers import AutoTokenizer\n",
    "import numpy as np\n",
    "from scipy.special import softmax\n",
    "import csv\n",
    "import urllib.request\n",
    "import pandas as pd\n",
    "import torch"
   ]
  },
  {
   "cell_type": "markdown",
   "id": "ec27bb9d",
   "metadata": {},
   "source": [
    "### 1 · Choosing the right 🤗 `Auto*` class  \n",
    "\n",
    "| Class | Framework | Typical use‑case |\n",
    "|-------|-----------|------------------|\n",
    "| `AutoModelForSequenceClassification` | **PyTorch** (default in Transformers) | Most tutorials, GPU/CPU inference |\n",
    "| `TFAutoModelForSequenceClassification` | **TensorFlow / Keras** | TF‑native pipelines or TPU serving |\n",
    "\n",
    "Both wrap the same checkpoint weights; only the tensor containers differ. \\\n",
    "In this notebook we stay with **PyTorch** (`torch.no_grad()` disables gradients during inference for speed & memory savings).\n"
   ]
  },
  {
   "cell_type": "code",
   "execution_count": 2,
   "id": "59e4236d",
   "metadata": {},
   "outputs": [],
   "source": [
    "# task='sentiment'\n",
    "# MODEL = f\"./cardiffnlp/twitter-roberta-base-{task}\"\n",
    "\n",
    "# tokenizer = AutoTokenizer.from_pretrained(MODEL)\n",
    "# tokenizer.save_pretrained(\"tokenizer_roberta/token_izer\")\n",
    "\n",
    "# # download label mapping\n",
    "# labels=[]\n",
    "# mapping_link = f\"https://raw.githubusercontent.com/cardiffnlp/tweeteval/main/datasets/{task}/mapping.txt\"\n",
    "# with urllib.request.urlopen(mapping_link) as f:\n",
    "#     html = f.read().decode('utf-8').split(\"\\n\")\n",
    "#     csvreader = csv.reader(html, delimiter='\\t')\n",
    "# labels = [row[1] for row in csvreader if len(row) > 1]\n",
    "\n",
    "# model = AutoModelForSequenceClassification.from_pretrained(MODEL)\n",
    "# model.save_pretrained(MODEL)"
   ]
  },
  {
   "cell_type": "code",
   "execution_count": 3,
   "id": "94c0203f",
   "metadata": {},
   "outputs": [],
   "source": [
    "tokenizer = AutoTokenizer.from_pretrained(\"./tokenizer_roberta/sentiment_tokenizer/\")"
   ]
  },
  {
   "cell_type": "code",
   "execution_count": 4,
   "id": "cc6cf651",
   "metadata": {},
   "outputs": [
    {
     "name": "stderr",
     "output_type": "stream",
     "text": [
      "2025-04-12 02:27:43.262188: I external/local_xla/xla/tsl/cuda/cudart_stub.cc:32] Could not find cuda drivers on your machine, GPU will not be used.\n",
      "2025-04-12 02:27:43.414584: I external/local_xla/xla/tsl/cuda/cudart_stub.cc:32] Could not find cuda drivers on your machine, GPU will not be used.\n",
      "2025-04-12 02:27:43.492074: E external/local_xla/xla/stream_executor/cuda/cuda_fft.cc:467] Unable to register cuFFT factory: Attempting to register factory for plugin cuFFT when one has already been registered\n",
      "WARNING: All log messages before absl::InitializeLog() is called are written to STDERR\n",
      "E0000 00:00:1744424863.595402   37906 cuda_dnn.cc:8579] Unable to register cuDNN factory: Attempting to register factory for plugin cuDNN when one has already been registered\n",
      "E0000 00:00:1744424863.622668   37906 cuda_blas.cc:1407] Unable to register cuBLAS factory: Attempting to register factory for plugin cuBLAS when one has already been registered\n",
      "W0000 00:00:1744424863.822339   37906 computation_placer.cc:177] computation placer already registered. Please check linkage and avoid linking the same target more than once.\n",
      "W0000 00:00:1744424863.822374   37906 computation_placer.cc:177] computation placer already registered. Please check linkage and avoid linking the same target more than once.\n",
      "W0000 00:00:1744424863.822377   37906 computation_placer.cc:177] computation placer already registered. Please check linkage and avoid linking the same target more than once.\n",
      "W0000 00:00:1744424863.822380   37906 computation_placer.cc:177] computation placer already registered. Please check linkage and avoid linking the same target more than once.\n",
      "2025-04-12 02:27:43.842767: I tensorflow/core/platform/cpu_feature_guard.cc:210] This TensorFlow binary is optimized to use available CPU instructions in performance-critical operations.\n",
      "To enable the following instructions: AVX2 FMA, in other operations, rebuild TensorFlow with the appropriate compiler flags.\n"
     ]
    }
   ],
   "source": [
    "model = AutoModelForSequenceClassification.from_pretrained(\"./cardiffnlp/twitter-roberta-base-sentiment/\")"
   ]
  },
  {
   "cell_type": "markdown",
   "id": "a584eaab",
   "metadata": {},
   "source": [
    "### Under the hood 🔍  \n",
    "\n",
    "* **Encoder** – *RoBERTa‑base* (12 layers, 12 heads, 768 hidden, 125 M parameters).  \n",
    "* **Pre‑training corpus** – 58 M tweets (or 124 M in the _latest_ variant), cleaned & deduplicated. \\\n",
    "  RoBERTa’s dynamic masking + longer training lets the model learn robust slang & emoji semantics. :contentReference[oaicite:1]{index=1}  \n",
    "* **Fine‑tuning** – `tweet_eval/sentiment` task (20 k labelled tweets) with cross‑entropy on three classes.  \n",
    "  The classification head is a single fully‑connected layer on top of the pooled **[CLS]** representation.\n"
   ]
  },
  {
   "cell_type": "code",
   "execution_count": 9,
   "id": "594e96a2",
   "metadata": {},
   "outputs": [],
   "source": [
    "def sentiment(row):\n",
    "    text = row[:1500]\n",
    "    encoded_input = tokenizer(text, return_tensors='pt')\n",
    "    with torch.no_grad():  # Disable gradient calculation during inference\n",
    "        output = model(**encoded_input)\n",
    "    scores = output[0][0].cpu().numpy()  # Move scores to CPU for further processing\n",
    "    scores = softmax(scores)\n",
    "\n",
    "\n",
    "    ranking = np.argsort(scores)\n",
    "    ranking = ranking[::-1]\n",
    "    max_score = 0\n",
    "    labels = [\"negative\", \"neutral\", \"positive\"]  # Example definition\n",
    "    for i in range(scores.shape[0]):\n",
    "        l = labels[ranking[i]]\n",
    "        s = scores[ranking[i]]\n",
    "        if s > max_score:\n",
    "            final = l\n",
    "            max_score = s\n",
    "    return final"
   ]
  },
  {
   "cell_type": "code",
   "execution_count": 13,
   "id": "a20a6c7c",
   "metadata": {},
   "outputs": [],
   "source": [
    "df = pd.read_csv(\"../datasets/labelled.csv\")\n",
    "df = df.iloc[:100, :]"
   ]
  },
  {
   "cell_type": "code",
   "execution_count": 14,
   "id": "9c32d6cc",
   "metadata": {},
   "outputs": [
    {
     "data": {
      "text/html": [
       "<div>\n",
       "<style scoped>\n",
       "    .dataframe tbody tr th:only-of-type {\n",
       "        vertical-align: middle;\n",
       "    }\n",
       "\n",
       "    .dataframe tbody tr th {\n",
       "        vertical-align: top;\n",
       "    }\n",
       "\n",
       "    .dataframe thead th {\n",
       "        text-align: right;\n",
       "    }\n",
       "</style>\n",
       "<table border=\"1\" class=\"dataframe\">\n",
       "  <thead>\n",
       "    <tr style=\"text-align: right;\">\n",
       "      <th></th>\n",
       "      <th>Heading</th>\n",
       "      <th>Body</th>\n",
       "      <th>Category</th>\n",
       "      <th>URL</th>\n",
       "    </tr>\n",
       "  </thead>\n",
       "  <tbody>\n",
       "    <tr>\n",
       "      <th>0</th>\n",
       "      <td>free speech not hate speech madras high court ...</td>\n",
       "      <td>madras high court issue significant remark ami...</td>\n",
       "      <td>Judiciary</td>\n",
       "      <td>https://www.indiatoday.in/law/high-courts/stor...</td>\n",
       "    </tr>\n",
       "    <tr>\n",
       "      <th>1</th>\n",
       "      <td>comment take context say us cop mock indian st...</td>\n",
       "      <td>seattle police officer guild friday come defen...</td>\n",
       "      <td>Crime</td>\n",
       "      <td>https://www.indiatoday.in/world/story/indian-s...</td>\n",
       "    </tr>\n",
       "    <tr>\n",
       "      <th>2</th>\n",
       "      <td>first meeting one nation one election committe...</td>\n",
       "      <td>first official meeting one nation one election...</td>\n",
       "      <td>Politics</td>\n",
       "      <td>https://www.indiatoday.in/india/story/one-nati...</td>\n",
       "    </tr>\n",
       "    <tr>\n",
       "      <th>3</th>\n",
       "      <td>us airlines flight depressurize midair plummet...</td>\n",
       "      <td>united airlines jet head rome turn around less...</td>\n",
       "      <td>Crime</td>\n",
       "      <td>https://www.indiatoday.in/world/story/us-fligh...</td>\n",
       "    </tr>\n",
       "    <tr>\n",
       "      <th>4</th>\n",
       "      <td>terrorist kill security force foil infiltratio...</td>\n",
       "      <td>three terrorist kill infiltration bid foil sec...</td>\n",
       "      <td>Crime</td>\n",
       "      <td>https://www.indiatoday.in/india/story/one-terr...</td>\n",
       "    </tr>\n",
       "  </tbody>\n",
       "</table>\n",
       "</div>"
      ],
      "text/plain": [
       "                                             Heading  \\\n",
       "0  free speech not hate speech madras high court ...   \n",
       "1  comment take context say us cop mock indian st...   \n",
       "2  first meeting one nation one election committe...   \n",
       "3  us airlines flight depressurize midair plummet...   \n",
       "4  terrorist kill security force foil infiltratio...   \n",
       "\n",
       "                                                Body   Category  \\\n",
       "0  madras high court issue significant remark ami...  Judiciary   \n",
       "1  seattle police officer guild friday come defen...      Crime   \n",
       "2  first official meeting one nation one election...   Politics   \n",
       "3  united airlines jet head rome turn around less...      Crime   \n",
       "4  three terrorist kill infiltration bid foil sec...      Crime   \n",
       "\n",
       "                                                 URL  \n",
       "0  https://www.indiatoday.in/law/high-courts/stor...  \n",
       "1  https://www.indiatoday.in/world/story/indian-s...  \n",
       "2  https://www.indiatoday.in/india/story/one-nati...  \n",
       "3  https://www.indiatoday.in/world/story/us-fligh...  \n",
       "4  https://www.indiatoday.in/india/story/one-terr...  "
      ]
     },
     "execution_count": 14,
     "metadata": {},
     "output_type": "execute_result"
    }
   ],
   "source": [
    "df.head()"
   ]
  },
  {
   "cell_type": "code",
   "execution_count": 15,
   "id": "a508f0e8",
   "metadata": {},
   "outputs": [
    {
     "data": {
      "text/plain": [
       "(100, 4)"
      ]
     },
     "execution_count": 15,
     "metadata": {},
     "output_type": "execute_result"
    }
   ],
   "source": [
    "df.shape"
   ]
  },
  {
   "cell_type": "code",
   "execution_count": 16,
   "id": "98f650c3",
   "metadata": {},
   "outputs": [],
   "source": [
    "df[\"Sentiment\"] = df.Body.apply(lambda x: sentiment(str(x)))"
   ]
  },
  {
   "cell_type": "code",
   "execution_count": null,
   "id": "92c54316",
   "metadata": {},
   "outputs": [
    {
     "data": {
      "text/html": [
       "<div>\n",
       "<style scoped>\n",
       "    .dataframe tbody tr th:only-of-type {\n",
       "        vertical-align: middle;\n",
       "    }\n",
       "\n",
       "    .dataframe tbody tr th {\n",
       "        vertical-align: top;\n",
       "    }\n",
       "\n",
       "    .dataframe thead th {\n",
       "        text-align: right;\n",
       "    }\n",
       "</style>\n",
       "<table border=\"1\" class=\"dataframe\">\n",
       "  <thead>\n",
       "    <tr style=\"text-align: right;\">\n",
       "      <th></th>\n",
       "      <th>Heading</th>\n",
       "      <th>Body</th>\n",
       "      <th>Category</th>\n",
       "      <th>URL</th>\n",
       "      <th>Sentiment</th>\n",
       "    </tr>\n",
       "  </thead>\n",
       "  <tbody>\n",
       "    <tr>\n",
       "      <th>0</th>\n",
       "      <td>'Free speech should not be hate speech': Madra...</td>\n",
       "      <td>madras high court issue significant remark ami...</td>\n",
       "      <td>law</td>\n",
       "      <td>https://www.indiatoday.in/law/high-courts/stor...</td>\n",
       "      <td>neutral</td>\n",
       "    </tr>\n",
       "    <tr>\n",
       "      <th>1</th>\n",
       "      <td>'Comments taken out of context', says US cop w...</td>\n",
       "      <td>seattle police officer guild friday come defen...</td>\n",
       "      <td>world</td>\n",
       "      <td>https://www.indiatoday.in/world/story/indian-s...</td>\n",
       "      <td>neutral</td>\n",
       "    </tr>\n",
       "    <tr>\n",
       "      <th>2</th>\n",
       "      <td>First meeting of 'One Nation One Election' com...</td>\n",
       "      <td>first official meeting one nation one election...</td>\n",
       "      <td>india</td>\n",
       "      <td>https://www.indiatoday.in/india/story/one-nati...</td>\n",
       "      <td>neutral</td>\n",
       "    </tr>\n",
       "    <tr>\n",
       "      <th>3</th>\n",
       "      <td>US airlines’ flight depressurizes mid-air, plu...</td>\n",
       "      <td>united airlines jet head rome turn around less...</td>\n",
       "      <td>world</td>\n",
       "      <td>https://www.indiatoday.in/world/story/us-fligh...</td>\n",
       "      <td>neutral</td>\n",
       "    </tr>\n",
       "    <tr>\n",
       "      <th>4</th>\n",
       "      <td>3 terrorists killed as security forces foil in...</td>\n",
       "      <td>three terrorist kill infiltration bid foil sec...</td>\n",
       "      <td>india</td>\n",
       "      <td>https://www.indiatoday.in/india/story/one-terr...</td>\n",
       "      <td>negative</td>\n",
       "    </tr>\n",
       "  </tbody>\n",
       "</table>\n",
       "</div>"
      ],
      "text/plain": [
       "                                             Heading  \\\n",
       "0  'Free speech should not be hate speech': Madra...   \n",
       "1  'Comments taken out of context', says US cop w...   \n",
       "2  First meeting of 'One Nation One Election' com...   \n",
       "3  US airlines’ flight depressurizes mid-air, plu...   \n",
       "4  3 terrorists killed as security forces foil in...   \n",
       "\n",
       "                                                Body Category  \\\n",
       "0  madras high court issue significant remark ami...      law   \n",
       "1  seattle police officer guild friday come defen...    world   \n",
       "2  first official meeting one nation one election...    india   \n",
       "3  united airlines jet head rome turn around less...    world   \n",
       "4  three terrorist kill infiltration bid foil sec...    india   \n",
       "\n",
       "                                                 URL Sentiment  \n",
       "0  https://www.indiatoday.in/law/high-courts/stor...   neutral  \n",
       "1  https://www.indiatoday.in/world/story/indian-s...   neutral  \n",
       "2  https://www.indiatoday.in/india/story/one-nati...   neutral  \n",
       "3  https://www.indiatoday.in/world/story/us-fligh...   neutral  \n",
       "4  https://www.indiatoday.in/india/story/one-terr...  negative  "
      ]
     },
     "execution_count": 36,
     "metadata": {},
     "output_type": "execute_result"
    }
   ],
   "source": [
    "df.head()"
   ]
  }
 ],
 "metadata": {
  "kernelspec": {
   "display_name": "Python 3",
   "language": "python",
   "name": "python3"
  },
  "language_info": {
   "codemirror_mode": {
    "name": "ipython",
    "version": 3
   },
   "file_extension": ".py",
   "mimetype": "text/x-python",
   "name": "python",
   "nbconvert_exporter": "python",
   "pygments_lexer": "ipython3",
   "version": "3.12.1"
  }
 },
 "nbformat": 4,
 "nbformat_minor": 5
}
