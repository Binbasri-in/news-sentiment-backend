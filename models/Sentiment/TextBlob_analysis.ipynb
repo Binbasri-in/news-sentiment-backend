{
  "cells": [
    {
      "cell_type": "code",
      "execution_count": 2,
      "metadata": {
        "id": "LmnSD_I0mSmk"
      },
      "outputs": [],
      "source": [
        "import pandas as pd\n",
        "from textblob import TextBlob"
      ]
    },
    {
      "cell_type": "code",
      "execution_count": 3,
      "metadata": {
        "id": "bw4zAe8XmXi8"
      },
      "outputs": [],
      "source": [
        "data = pd.read_csv(\"../datasets/labelled.csv\")"
      ]
    },
    {
      "cell_type": "code",
      "execution_count": 4,
      "metadata": {
        "colab": {
          "base_uri": "https://localhost:8080/",
          "height": 293
        },
        "id": "EikG_ZOqnFqb",
        "outputId": "e4729e42-5e14-4651-d783-3413d8952e68"
      },
      "outputs": [
        {
          "data": {
            "text/html": [
              "<div>\n",
              "<style scoped>\n",
              "    .dataframe tbody tr th:only-of-type {\n",
              "        vertical-align: middle;\n",
              "    }\n",
              "\n",
              "    .dataframe tbody tr th {\n",
              "        vertical-align: top;\n",
              "    }\n",
              "\n",
              "    .dataframe thead th {\n",
              "        text-align: right;\n",
              "    }\n",
              "</style>\n",
              "<table border=\"1\" class=\"dataframe\">\n",
              "  <thead>\n",
              "    <tr style=\"text-align: right;\">\n",
              "      <th></th>\n",
              "      <th>Heading</th>\n",
              "      <th>Body</th>\n",
              "      <th>Category</th>\n",
              "      <th>URL</th>\n",
              "    </tr>\n",
              "  </thead>\n",
              "  <tbody>\n",
              "    <tr>\n",
              "      <th>0</th>\n",
              "      <td>free speech not hate speech madras high court ...</td>\n",
              "      <td>madras high court issue significant remark ami...</td>\n",
              "      <td>Judiciary</td>\n",
              "      <td>https://www.indiatoday.in/law/high-courts/stor...</td>\n",
              "    </tr>\n",
              "    <tr>\n",
              "      <th>1</th>\n",
              "      <td>comment take context say us cop mock indian st...</td>\n",
              "      <td>seattle police officer guild friday come defen...</td>\n",
              "      <td>Crime</td>\n",
              "      <td>https://www.indiatoday.in/world/story/indian-s...</td>\n",
              "    </tr>\n",
              "    <tr>\n",
              "      <th>2</th>\n",
              "      <td>first meeting one nation one election committe...</td>\n",
              "      <td>first official meeting one nation one election...</td>\n",
              "      <td>Politics</td>\n",
              "      <td>https://www.indiatoday.in/india/story/one-nati...</td>\n",
              "    </tr>\n",
              "    <tr>\n",
              "      <th>3</th>\n",
              "      <td>us airlines flight depressurize midair plummet...</td>\n",
              "      <td>united airlines jet head rome turn around less...</td>\n",
              "      <td>Crime</td>\n",
              "      <td>https://www.indiatoday.in/world/story/us-fligh...</td>\n",
              "    </tr>\n",
              "    <tr>\n",
              "      <th>4</th>\n",
              "      <td>terrorist kill security force foil infiltratio...</td>\n",
              "      <td>three terrorist kill infiltration bid foil sec...</td>\n",
              "      <td>Crime</td>\n",
              "      <td>https://www.indiatoday.in/india/story/one-terr...</td>\n",
              "    </tr>\n",
              "  </tbody>\n",
              "</table>\n",
              "</div>"
            ],
            "text/plain": [
              "                                             Heading  \\\n",
              "0  free speech not hate speech madras high court ...   \n",
              "1  comment take context say us cop mock indian st...   \n",
              "2  first meeting one nation one election committe...   \n",
              "3  us airlines flight depressurize midair plummet...   \n",
              "4  terrorist kill security force foil infiltratio...   \n",
              "\n",
              "                                                Body   Category  \\\n",
              "0  madras high court issue significant remark ami...  Judiciary   \n",
              "1  seattle police officer guild friday come defen...      Crime   \n",
              "2  first official meeting one nation one election...   Politics   \n",
              "3  united airlines jet head rome turn around less...      Crime   \n",
              "4  three terrorist kill infiltration bid foil sec...      Crime   \n",
              "\n",
              "                                                 URL  \n",
              "0  https://www.indiatoday.in/law/high-courts/stor...  \n",
              "1  https://www.indiatoday.in/world/story/indian-s...  \n",
              "2  https://www.indiatoday.in/india/story/one-nati...  \n",
              "3  https://www.indiatoday.in/world/story/us-fligh...  \n",
              "4  https://www.indiatoday.in/india/story/one-terr...  "
            ]
          },
          "execution_count": 4,
          "metadata": {},
          "output_type": "execute_result"
        }
      ],
      "source": [
        "data.head()"
      ]
    },
    {
      "cell_type": "code",
      "execution_count": 5,
      "metadata": {
        "id": "AkAn3jkWmtVc"
      },
      "outputs": [],
      "source": [
        "sentiment_scores = []\n",
        "sentiment_classes = []"
      ]
    },
    {
      "cell_type": "code",
      "execution_count": 6,
      "metadata": {
        "id": "4vS_vQCrmvRv"
      },
      "outputs": [],
      "source": [
        "for index, row in data.iterrows():\n",
        "    heading = row[\"Heading\"]\n",
        "    body = row[\"Body\"]\n",
        "\n",
        "    combined_text = heading + \" \" + body\n",
        "\n",
        "    # sentiment analysis using TextBlob\n",
        "    analysis = TextBlob(combined_text)\n",
        "    sentiment_score = analysis.sentiment.polarity\n",
        "\n",
        "    # Classify the sentiment\n",
        "    if sentiment_score > 0:\n",
        "        sentiment_class = \"positive\"\n",
        "    elif sentiment_score < 0:\n",
        "        sentiment_class = \"negative\"\n",
        "    else:\n",
        "        sentiment_class = \"neutral\"\n",
        "\n",
        "    sentiment_scores.append(sentiment_score)\n",
        "    sentiment_classes.append(sentiment_class)"
      ]
    },
    {
      "cell_type": "code",
      "execution_count": 7,
      "metadata": {
        "id": "nY5AM17Bmz89"
      },
      "outputs": [],
      "source": [
        "data[\"sentiment_score\"] = sentiment_scores\n",
        "data[\"sentiment_class\"] = sentiment_classes"
      ]
    },
    {
      "cell_type": "code",
      "execution_count": 8,
      "metadata": {
        "id": "lhURhCVKm1b6"
      },
      "outputs": [],
      "source": [
        "data.to_csv(\"news_data_with_sentiment.csv\", index=False)"
      ]
    }
  ],
  "metadata": {
    "colab": {
      "provenance": []
    },
    "kernelspec": {
      "display_name": "nlps",
      "language": "python",
      "name": "python3"
    },
    "language_info": {
      "codemirror_mode": {
        "name": "ipython",
        "version": 3
      },
      "file_extension": ".py",
      "mimetype": "text/x-python",
      "name": "python",
      "nbconvert_exporter": "python",
      "pygments_lexer": "ipython3",
      "version": "3.11.11"
    }
  },
  "nbformat": 4,
  "nbformat_minor": 0
}
